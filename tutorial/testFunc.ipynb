{
 "cells": [
  {
   "cell_type": "code",
   "execution_count": 153,
   "metadata": {},
   "outputs": [],
   "source": [
    "import numpy as np\n",
    "import matplotlib.pyplot as plt\n",
    "import pandas as pd\n",
    "import ast\n",
    "import networkx as nx\n",
    "import random"
   ]
  },
  {
   "cell_type": "code",
   "execution_count": 5,
   "metadata": {},
   "outputs": [],
   "source": [
    "def multinomial_argmax(probabilities):\n",
    "    # normalize probabilities to sum to 1\n",
    "    probabilities = np.asarray(probabilities)\n",
    "    probabilities /= probabilities.sum()\n",
    "\n",
    "    # draw a sample from the multinomial distribution\n",
    "    sample = np.random.multinomial(1, probabilities)\n",
    "\n",
    "    # get the index of the selected element\n",
    "    index = np.argmax(sample)\n",
    "\n",
    "    return index\n",
    "\n",
    "def normalize_list(l):\n",
    "    return [i/sum(l) for i in l]\n",
    "\n",
    "def roulette_wheel_selection(population, costs, parent_size):\n",
    "    max_cost = 1\n",
    "    fitnesses = [max_cost +1 -cost for cost in costs]\n",
    "    probabilities = normalize_list(fitnesses)\n",
    "\n",
    "    # checked that sum(probabilities) = 1\n",
    "    if sum(probabilities) < 0.999:\n",
    "        print(f'Sum Probability: {sum(probabilities)}')\n",
    "        raise ValueError('Probabilities must sum to 1.')\n",
    "    elif sum(probabilities) > 1.001:\n",
    "        print(f'Sum Probability: {sum(probabilities)}')\n",
    "        raise ValueError('Probabilities must not over 1.')\n",
    "        \n",
    "    selected = []\n",
    "    \n",
    "    print('start selecting parents')\n",
    "    while len(selected) < parent_size:\n",
    "        print(f'population: {population}')\n",
    "\n",
    "        print(f'probabilities: {probabilities}, and sum is: {sum(probabilities)}')\n",
    "        index = multinomial_argmax(probabilities)\n",
    "        print(f'index: {index}')\n",
    "        chosen_parent = population[index]\n",
    "        print(f'chosen parent: {chosen_parent}')\n",
    "\n",
    "        selected.append(chosen_parent)\n",
    "\n",
    "        del population[index]\n",
    "        del probabilities[index]\n",
    "        print(f'population: {population}')\n",
    "        \n",
    "    return selected\n",
    "\n",
    "def cost_to_fitness(cost_list):\n",
    "    # transform the cost to a fitness value\n",
    "    fitness_list = [1 / (1 + cost) for cost in cost_list]\n",
    "    print(f'fitness_list: {fitness_list}')\n",
    "    print(f'sum of fitness_list: {sum(fitness_list)}')\n",
    "    min_fitness = min(fitness_list)\n",
    "    max_fitness = max(fitness_list)\n",
    "    print(f'min_fitness: {min_fitness}, max_fitness: {max_fitness}')\n",
    "    \n",
    "    # normalize the fitness value to [0, 1]\n",
    "    normalized_fitness = [fitness/sum(fitness_list) for fitness in fitness_list]\n",
    "    \n",
    "    return normalized_fitness\n",
    "\n",
    "def normalize_fitness(fitness_values):\n",
    "    # Calculate the sum of fitness values\n",
    "    fitness_sum = sum(fitness_values)\n",
    "    \n",
    "    # Divide each fitness value by the sum to normalize\n",
    "    normalized_fitness = [fitness / fitness_sum for fitness in fitness_values]\n",
    "    \n",
    "    return normalized_fitness\n"
   ]
  },
  {
   "attachments": {},
   "cell_type": "markdown",
   "metadata": {},
   "source": [
    "# Cost\n",
    "interval [0,1], 1 => best, 0 => worst\n",
    "\n",
    "\\begin{equation}\n",
    "    cost = \\frac{1}{log_{x_{b}}x_{i}}\n",
    "\\end{equation}\n",
    "\n",
    "\\begin{equation}\n",
    "    C(x_{1},...,x_{N}) = \\sum_{i=1}^N \\frac{1}{log_{x_{b}}x_{i}}\n",
    "\\end{equation}"
   ]
  },
  {
   "cell_type": "code",
   "execution_count": 56,
   "metadata": {},
   "outputs": [
    {
     "name": "stderr",
     "output_type": "stream",
     "text": [
      "/var/folders/b7/kcj1zfy15d35hgd16vscfs0r0000gn/T/ipykernel_40539/991286755.py:2: RuntimeWarning: divide by zero encountered in log\n",
      "  y = 1/(np.log(x)/np.log(base))\n",
      "/var/folders/b7/kcj1zfy15d35hgd16vscfs0r0000gn/T/ipykernel_40539/991286755.py:2: RuntimeWarning: divide by zero encountered in divide\n",
      "  y = 1/(np.log(x)/np.log(base))\n"
     ]
    },
    {
     "data": {
      "text/plain": [
       "<matplotlib.legend.Legend at 0x7fd8490c3760>"
      ]
     },
     "execution_count": 56,
     "metadata": {},
     "output_type": "execute_result"
    },
    {
     "data": {
      "image/png": "[encoded data removed]",
      "text/plain": [
       "<Figure size 640x480 with 1 Axes>"
      ]
     },
     "metadata": {},
     "output_type": "display_data"
    }
   ],
   "source": [
    "def cost_plot(x, base):\n",
    "    y = 1/(np.log(x)/np.log(base))\n",
    "    return y\n",
    "\n",
    "plt.xlabel('x') # a set of parameter that mapped to a cost\n",
    "plt.ylabel('cost')\n",
    "\n",
    "for base in [0.25, 0.5, 0.75, 1]:\n",
    "    plt.plot(np.arange(0, 1, 0.01), cost_plot(np.arange(0, 1, 0.01), base), label=f'based {base}')\n",
    "    # plt.plot([base, base], [0,100], '--')\n",
    "\n",
    "plt.legend()"
   ]
  },
  {
   "cell_type": "code",
   "execution_count": 42,
   "metadata": {},
   "outputs": [
    {
     "name": "stdout",
     "output_type": "stream",
     "text": [
      "0.5757166424934449\n",
      "1.0\n",
      "1.9433582098747315\n"
     ]
    }
   ],
   "source": [
    "print(cost_plot(x=0.3, base=0.5))\n",
    "print(cost_plot(x=0.5, base=0.5))\n",
    "print(cost_plot(x=0.7, base=0.5))"
   ]
  },
  {
   "cell_type": "code",
   "execution_count": 46,
   "metadata": {},
   "outputs": [],
   "source": [
    "def first(x_b, k):\n",
    "    x_new = x_b**(1/k)\n",
    "    return x_new"
   ]
  },
  {
   "cell_type": "code",
   "execution_count": 55,
   "metadata": {},
   "outputs": [
    {
     "name": "stderr",
     "output_type": "stream",
     "text": [
      "/var/folders/b7/kcj1zfy15d35hgd16vscfs0r0000gn/T/ipykernel_40539/2839968449.py:2: RuntimeWarning: divide by zero encountered in divide\n",
      "  x_new = x_b**(1/k)\n"
     ]
    },
    {
     "data": {
      "text/plain": [
       "[<matplotlib.lines.Line2D at 0x7fd878968bb0>]"
      ]
     },
     "execution_count": 55,
     "metadata": {},
     "output_type": "execute_result"
    },
    {
     "data": {
      "image/png": "[encoded data removed]",
      "text/plain": [
       "<Figure size 640x480 with 1 Axes>"
      ]
     },
     "metadata": {},
     "output_type": "display_data"
    }
   ],
   "source": [
    "x = np.linspace(0, 10, 100)\n",
    "x_b = 0.5\n",
    "y = first(x_b=x_b, k=x)\n",
    "plt.ylabel('x_new')\n",
    "plt.plot(x, y)\n",
    "plt.plot([0,10], [x_b, x_b], '--')\n"
   ]
  },
  {
   "cell_type": "code",
   "execution_count": 115,
   "metadata": {},
   "outputs": [],
   "source": [
    "def create_population(population_size, num_parameter=4):\n",
    "    # create individual in population\n",
    "    population = []\n",
    "    for i in range(population_size):\n",
    "        individual = [random.random() for i in range(num_parameter)]\n",
    "        population.append(individual)\n",
    "    \n",
    "    return population\n",
    "\n",
    "def crossover(parents, cross, population_size):\n",
    "    offspring = []\n",
    "    numParent = len(parents)\n",
    "\n",
    "    num_cross = int(cross*population_size)\n",
    "    num_pick = population_size - num_cross\n",
    "    print(f'num_cross: {num_cross}, num_pick: {num_pick}')\n",
    "\n",
    "    # crossover\n",
    "    for i in range(num_cross):\n",
    "        \n",
    "        #select two parents\n",
    "        pool = parents\n",
    "        parent1 = random.choice(pool)\n",
    "        parent2 = random.choice(pool)\n",
    "\n",
    "        #select random point to crossover\n",
    "        crossover_point = random.randint(0, len(parent1)-1)\n",
    "            \n",
    "        #create child\n",
    "        child = parent1[:crossover_point] + parent2[crossover_point:]\n",
    "        offspring.append(child)\n",
    "    print(f'offspring after cross: {len(offspring)}')\n",
    "\n",
    "    # pick\n",
    "    for i in range(num_pick):\n",
    "        picked_ind = random.choice(parents)\n",
    "        offspring.append(picked_ind)\n",
    "        # del parents[parents.index(picked_ind)]\n",
    "    print(f'offspring after pick: {len(offspring)}')\n",
    "\n",
    "    if num_cross+num_pick != population_size:\n",
    "        print(f'Num cross: {num_cross}, Num pick: {num_pick}, Num parents: {numParent}')\n",
    "        raise ValueError('Number is not match in crossover function parent')\n",
    "    \n",
    "    elif num_cross+num_pick != len(offspring):\n",
    "        print(f'Num cross: {num_cross}, Num pick: {num_pick}, Num offspring: {len(offspring)}')\n",
    "        raise ValueError('Number is not match in crossover function offspring')\n",
    "\n",
    "    return offspring\n",
    "\n",
    "def roulette_wheel_selection(population, costs, parent_size):\n",
    "    \"\"\"\n",
    "        Performs roulette wheel selection on a population based on their fitnesses.\n",
    "        Args:\n",
    "            population (list): List of individuals.\n",
    "            fitnesses (list): List of corresponding fitness values for the individuals.\n",
    "            num_selected (int): Number of individuals to select.\n",
    "        Returns:\n",
    "            selected (list): List of selected individuals.\n",
    "    \"\"\"\n",
    "\n",
    "    # prevent changing original population\n",
    "    dum_population = population[:]\n",
    "    print(len(dum_population), len(population))\n",
    "\n",
    "    fitness_list = [1 / (1 + cost) for cost in costs]\n",
    "    # print(fitness_list)\n",
    "\n",
    "    probabilities = [fitness/np.sum(fitness_list) for fitness in fitness_list]\n",
    "    # print(f'probabilities: {probabilities}, and sum is: {sum(probabilities)}')\n",
    "\n",
    "    # checked that sum(probabilities) = 1\n",
    "    if np.sum(probabilities) < 0.999:\n",
    "        print(f'Sum Probability: {sum(probabilities)}')\n",
    "        raise ValueError('Probabilities must sum to 1.')\n",
    "    elif np.sum(probabilities) > 1.001:\n",
    "        print(f'Sum Probability: {sum(probabilities)}')\n",
    "        raise ValueError('Probabilities must not over 1.')\n",
    "        \n",
    "    selected = []\n",
    "    \n",
    "    # print('start selecting parents')\n",
    "    while len(selected) < parent_size:\n",
    "    \n",
    "        index = multinomial_argmax(probabilities)        \n",
    "        chosen_parent = dum_population[index]\n",
    "\n",
    "        selected.append(chosen_parent)\n",
    "\n",
    "        dum_population.pop(index)\n",
    "        probabilities.pop(index)\n",
    "        print(f'num dum_population: {len(dum_population)}') # expect to decrease\n",
    "        print(f'num population: {len(population)}') # expect to not decrease\n",
    "        \n",
    "    return selected"
   ]
  },
  {
   "cell_type": "code",
   "execution_count": 116,
   "metadata": {},
   "outputs": [
    {
     "name": "stdout",
     "output_type": "stream",
     "text": [
      "50\n"
     ]
    }
   ],
   "source": [
    "population = create_population(population_size=50, num_parameter=4)\n",
    "cost_value = [1.945074460237905, 5.723117049688897, 10.19354411792085, 1.6850255137675068, 4.4254081547309, 4.0390398813191855, 6.0857742323886965, 3.4817075737754983, 5.111420184626466, 4.937073478920119, 1.9374992464219414, 4.056022181421867, 1.9984203050574167, 3.241191633714245, 3.5806621292044634, 9.400384324509663, 4.641927152719156, 3.3826357642729756, 2.6447892871943495, 7.724421428919619, 3.7812799705732063, 7.412271738344608, 3.9431108131822397, 2.8343751816300458, 3.68394655203922, 2.8760378225013663, 5.510804524908551, 8.68409787412666, 5.800392752070135, 8.369121877400312, 2.999651317748761, 1.6196133694706765, 5.848566994733558, 0.9312694063108722, 2.297164464415434, 8.245635344194302, 3.5574278492795552, 4.59753043143809, 3.151607408331103, 2.104871091190411, 2.8558639817718636, 2.46653818262749, 3.0991929420080164, 3.7913369527115033, 5.7804792535984, 7.9378429723938435, 6.883473585441205, 3.939065816842396, 3.818300558986492, 1.7981726505356173]\n",
    "print(len(cost_value))"
   ]
  },
  {
   "cell_type": "code",
   "execution_count": 117,
   "metadata": {},
   "outputs": [
    {
     "name": "stdout",
     "output_type": "stream",
     "text": [
      "50\n",
      "50 50\n",
      "num dum_population: 49\n",
      "num population: 50\n",
      "num dum_population: 48\n",
      "num population: 50\n",
      "num dum_population: 47\n",
      "num population: 50\n",
      "num dum_population: 46\n",
      "num population: 50\n",
      "num dum_population: 45\n",
      "num population: 50\n",
      "num dum_population: 44\n",
      "num population: 50\n",
      "num dum_population: 43\n",
      "num population: 50\n",
      "num dum_population: 42\n",
      "num population: 50\n",
      "num dum_population: 41\n",
      "num population: 50\n",
      "num dum_population: 40\n",
      "num population: 50\n",
      "num dum_population: 39\n",
      "num population: 50\n",
      "num dum_population: 38\n",
      "num population: 50\n",
      "num dum_population: 37\n",
      "num population: 50\n",
      "num dum_population: 36\n",
      "num population: 50\n",
      "num dum_population: 35\n",
      "num population: 50\n",
      "num dum_population: 34\n",
      "num population: 50\n",
      "num dum_population: 33\n",
      "num population: 50\n",
      "num dum_population: 32\n",
      "num population: 50\n",
      "num dum_population: 31\n",
      "num population: 50\n",
      "num dum_population: 30\n",
      "num population: 50\n",
      "50\n"
     ]
    }
   ],
   "source": [
    "print(len(population))\n",
    "parent = roulette_wheel_selection(population=population, costs=cost_value, parent_size=20)\n",
    "print(len(population))"
   ]
  },
  {
   "cell_type": "code",
   "execution_count": 108,
   "metadata": {},
   "outputs": [
    {
     "data": {
      "text/plain": [
       "[1, 2, 4, 5]"
      ]
     },
     "execution_count": 108,
     "metadata": {},
     "output_type": "execute_result"
    }
   ],
   "source": [
    "my_list = [1, 2, 3, 4, 5]\n",
    "del my_list[2]\n",
    "my_list"
   ]
  },
  {
   "cell_type": "code",
   "execution_count": 122,
   "metadata": {},
   "outputs": [
    {
     "name": "stdout",
     "output_type": "stream",
     "text": [
      "current time:- 2023-05-08 13:56:50.347700\n",
      "timestamp:- 1683529010.3477\n"
     ]
    }
   ],
   "source": [
    "# using datetime module\n",
    "import datetime;\n",
    "\n",
    "# ct stores current time\n",
    "ct = datetime.datetime.now()\n",
    "print(\"current time:-\", ct)\n",
    "\n",
    "# ts store timestamp of current time\n",
    "ts = ct.timestamp()\n",
    "print(\"timestamp:-\", ts)\n"
   ]
  },
  {
   "cell_type": "code",
   "execution_count": 67,
   "metadata": {},
   "outputs": [
    {
     "name": "stdout",
     "output_type": "stream",
     "text": [
      "[[0.50363731 0.55600159 0.53678806 0.43159443]\n",
      " [0.50292792 0.42568397 0.42239204 0.25782169]\n",
      " [0.57902208 0.50136406 0.39389446 0.49602398]\n",
      " [0.51214431 0.42533284 0.48700377 0.4628458 ]\n",
      " [0.34968852 0.40299306 0.37329631 0.52901721]\n",
      " [0.44466308 0.2937594  0.35926169 0.46359444]\n",
      " [0.5326269  0.54830853 0.50679009 0.60642964]\n",
      " [0.45910982 0.64401661 0.27107594 0.47954948]\n",
      " [0.58568455 0.49851922 0.63657525 0.63784169]\n",
      " [0.45236111 0.57033397 0.28842756 0.35600157]]\n"
     ]
    }
   ],
   "source": [
    "import numpy as np\n",
    "import matplotlib.pyplot as plt\n",
    "\n",
    "\n",
    "# np.random.standard_normal(size=10)\n",
    "\n",
    "def __create_random_population(\n",
    "        dna_size, \n",
    "        dna_sigma, \n",
    "        dna_start_position,\n",
    "        population_size):\n",
    "        # Create a random population of individuals\n",
    "        \n",
    "        # (dimentsion of array)\n",
    "        population = np.random.standard_normal((population_size, dna_size)) * dna_sigma\n",
    "        \n",
    "        return population + dna_start_position\n",
    "\n",
    "dna_start_position = [0.5, 0.5, 0.5, 0.5]\n",
    "dna_size = len(dna_start_position)\n",
    "\n",
    "# dna_start_position is the initial value before transforming\n",
    "\n",
    "population = __create_random_population(\n",
    "        dna_size=dna_size, \n",
    "        dna_sigma=0.1, \n",
    "        dna_start_position=dna_start_position, \n",
    "        population_size=10)\n",
    "\n",
    "print(population)\n"
   ]
  },
  {
   "cell_type": "code",
   "execution_count": 68,
   "metadata": {},
   "outputs": [],
   "source": [
    "def __crossover(dna1, dna2):\n",
    "    assert len(dna1) == len(dna2)\n",
    "\n",
    "    new_dna = np.copy(dna1)\n",
    "    indices = np.where(np.random.randint(2, size=new_dna.size))\n",
    "    new_dna[indices] = dna2[indices]\n",
    "    return new_dna\n",
    "\n",
    "def __mutate(dna, mutation_sigma, mutation_rate):\n",
    "    if np.random.random_sample() < mutation_rate:\n",
    "        dna += np.random.standard_normal(size=dna.shape) * mutation_sigma\n",
    "        # np.add(dna, np.random.standard_normal(size=dna.shape) * mutation_sigma, out=dna, casting=\"unsafe\")\n",
    "\n",
    "    return dna\n",
    "\n",
    "# for i in range(10):\n",
    "#     print(__crossover(np.array([1,2,3,4,5]), np.array([5,6,7,8,9])))\n"
   ]
  },
  {
   "cell_type": "code",
   "execution_count": 69,
   "metadata": {},
   "outputs": [
    {
     "name": "stdout",
     "output_type": "stream",
     "text": [
      "[1 1 0 1]\n",
      "indeces (array([0, 1, 3]),)\n",
      "parent_1 [0.50363731 0.55600159 0.53678806 0.43159443], parent_2 [0.50292792 0.42568397 0.42239204 0.25782169]\n",
      "new dna [0.50292792 0.42568397 0.53678806 0.25782169]\n"
     ]
    }
   ],
   "source": [
    "# Example using crossover function\n",
    "\n",
    "test_1 = np.random.randint(2, size=population[0].size) # 0 or 1 with 5 elements\n",
    "indeices = np.where(test_1) # this will return indice that non zero\n",
    "\n",
    "print(test_1)\n",
    "print(f'indeces {indeices}')\n",
    "\n",
    "parent_1 = population[0]\n",
    "parent_2 = population[1]\n",
    "print(f'parent_1 {parent_1}, parent_2 {parent_2}')\n",
    "\n",
    "new_dna = np.copy(parent_1)\n",
    "# print(f'parent_1 {new_dna}')\n",
    "new_dna[indeices] = parent_2[indeices]\n",
    "print(f'new dna {new_dna}')"
   ]
  },
  {
   "cell_type": "code",
   "execution_count": 70,
   "metadata": {},
   "outputs": [
    {
     "name": "stdout",
     "output_type": "stream",
     "text": [
      "dna before mutate: [0.50292792 0.42568397 0.53678806 0.25782169]\n",
      "dna after mutate: [0.5303751  0.54763599 0.54933552 0.25911993]\n"
     ]
    }
   ],
   "source": [
    "print(f'dna before mutate: {new_dna}')\n",
    "__mutate(new_dna, mutation_sigma=0.1, mutation_rate=0.8)\n",
    "print(f'dna after mutate: {new_dna}')"
   ]
  },
  {
   "cell_type": "code",
   "execution_count": 101,
   "metadata": {},
   "outputs": [
    {
     "name": "stdout",
     "output_type": "stream",
     "text": [
      "assume_weight: \n",
      "[[0.62156252 0.53820386 0.63618777 0.47868433]\n",
      " [0.58901245 0.47121612 0.61325601 0.51231562]\n",
      " [0.57259404 0.50047059 0.34083345 0.4043617 ]]\n",
      "sorted_index: \n",
      "[[3 1 0 2]\n",
      " [1 3 0 2]\n",
      " [2 3 1 0]]\n",
      "sorted_array: \n",
      "[[0.47868433 0.53820386 0.62156252 0.63618777]\n",
      " [0.47121612 0.51231562 0.58901245 0.61325601]\n",
      " [0.34083345 0.4043617  0.50047059 0.57259404]]\n",
      "sorted_dna: \n",
      "[[4 2 1 3]\n",
      " [2 4 1 3]\n",
      " [3 4 2 1]]\n"
     ]
    }
   ],
   "source": [
    "assume_weight = __create_random_population(\n",
    "        dna_size=4, \n",
    "        dna_sigma=0.1, \n",
    "        dna_start_position=dna_start_position, \n",
    "        population_size=3)\n",
    "print(f'assume_weight: \\n{assume_weight}')\n",
    "\n",
    "# Sort each row independently\n",
    "sorted_index = np.argsort(assume_weight, axis=1)\n",
    "print(f'sorted_index: \\n{sorted_index}')\n",
    "\n",
    "sorted_array = np.take_along_axis(assume_weight, sorted_index, axis=1)\n",
    "print(f'sorted_array: \\n{sorted_array}')\n",
    "\n",
    "dna = np.array([[1,2,3,4], [1,2,3,4], [1,2,3,4]])\n",
    "sorted_dna = np.take_along_axis(dna, sorted_index, axis=1)\n",
    "print(f'sorted_dna: \\n{sorted_dna}')\n",
    "\n",
    "# Use sorted_index to sort fitnesses and population\n"
   ]
  },
  {
   "cell_type": "code",
   "execution_count": 98,
   "metadata": {},
   "outputs": [
    {
     "data": {
      "text/plain": [
       "1.0"
      ]
     },
     "execution_count": 98,
     "metadata": {},
     "output_type": "execute_result"
    }
   ],
   "source": [
    "fitness_weighting.sum()"
   ]
  },
  {
   "cell_type": "code",
   "execution_count": 110,
   "metadata": {},
   "outputs": [
    {
     "name": "stdout",
     "output_type": "stream",
     "text": [
      "New individuals to generate: 90\n",
      "Amount of old 10\n"
     ]
    }
   ],
   "source": [
    "# Determine the number of new individuals to generate\n",
    "# elitism, population_size\n",
    "\n",
    "elitism = 0.1\n",
    "population_size = 100\n",
    "\n",
    "amount_new = int((1 - elitism) * population_size)\n",
    "print(f'New individuals to generate: {amount_new}')\n",
    "print(f'Amount of old {population_size - amount_new}')"
   ]
  },
  {
   "cell_type": "code",
   "execution_count": 135,
   "metadata": {},
   "outputs": [
    {
     "data": {
      "text/plain": [
       "(2, 3)"
      ]
     },
     "execution_count": 135,
     "metadata": {},
     "output_type": "execute_result"
    }
   ],
   "source": [
    "np.array([[1,2,3], [4,5,6]]).shape"
   ]
  },
  {
   "cell_type": "code",
   "execution_count": 124,
   "metadata": {},
   "outputs": [
    {
     "name": "stdout",
     "output_type": "stream",
     "text": [
      "['pooh' 'pooh' 'pooh' 'piglet' 'pooh']\n",
      "['pooh' 'pooh' 'pooh' 'pooh' 'pooh']\n",
      "['pooh' 'pooh' 'pooh' 'pooh' 'pooh']\n",
      "['pooh' 'pooh' 'pooh' 'pooh' 'pooh']\n",
      "['pooh' 'pooh' 'pooh' 'pooh' 'pooh']\n",
      "['pooh' 'pooh' 'pooh' 'pooh' 'pooh']\n",
      "['rabbit' 'pooh' 'pooh' 'pooh' 'pooh']\n",
      "['pooh' 'pooh' 'pooh' 'pooh' 'pooh']\n",
      "['pooh' 'pooh' 'pooh' 'pooh' 'pooh']\n",
      "['pooh' 'pooh' 'pooh' 'pooh' 'pooh']\n"
     ]
    }
   ],
   "source": [
    "aa_milne_arr = ['pooh', 'rabbit', 'piglet', 'Christopher']\n",
    "for i in range(10):\n",
    "    print(np.random.choice(aa_milne_arr, 5, p=[0.91, 0.03, 0.03, 0.03]))"
   ]
  },
  {
   "cell_type": "code",
   "execution_count": 149,
   "metadata": {},
   "outputs": [
    {
     "name": "stdout",
     "output_type": "stream",
     "text": [
      "population: \n",
      "[[0.55605856 0.4632161  0.32547909 0.6003011 ]\n",
      " [0.33626421 0.36730891 0.48929579 0.39379563]\n",
      " [0.55512169 0.68544858 0.30330379 0.18248171]] \n",
      "\n",
      "fitness_array: [7 2 4]\n",
      "sorted_fitness_array: [2 4 7]\n",
      "\n",
      "sorted_population:\n",
      " [[0.33626421 0.36730891 0.48929579 0.39379563]\n",
      " [0.55512169 0.68544858 0.30330379 0.18248171]\n",
      " [0.55605856 0.4632161  0.32547909 0.6003011 ]] \n",
      "\n",
      "fitness_weight: [0.42307692 0.34615385 0.23076923]\n",
      "1.0\n",
      "count_0: 4248\n",
      "count_1: 3440\n",
      "count_2: 2312\n"
     ]
    }
   ],
   "source": [
    "population = __create_random_population(\n",
    "        dna_size=4, \n",
    "        dna_sigma=0.1, \n",
    "        dna_start_position=dna_start_position, \n",
    "        population_size=3)\n",
    "print(f'population: \\n{population} \\n')                                        \n",
    "\n",
    "fitness_array = np.array([7, 2, 4])\n",
    "print(f'fitness_array: {fitness_array}')\n",
    "\n",
    "fitness_indices = fitness_array.argsort()\n",
    "sorted_fitness_array = fitness_array[fitness_indices]\n",
    "sorted_population = population[fitness_indices]\n",
    "print(f'sorted_fitness_array: {sorted_fitness_array}\\n')\n",
    "print(f'sorted_population:\\n {sorted_population} \\n')\n",
    "\n",
    "fitness_weight = np.maximum(0, 1-sorted_fitness_array/fitness_array.sum())\n",
    "fitness_weight /= fitness_weight.sum()\n",
    "print(f'fitness_weight: {fitness_weight}')\n",
    "print(fitness_weight.sum())\n",
    "\n",
    "count_0 = 0\n",
    "count_1 = 0\n",
    "count_2 = 0\n",
    "\n",
    "for i in range(10000):\n",
    "    index = np.random.choice(sorted_population.shape[0], p=fitness_weight)\n",
    "    if index == 0:\n",
    "        count_0 += 1\n",
    "    elif index == 1:\n",
    "        count_1 += 1\n",
    "    elif index == 2:\n",
    "        count_2 += 1\n",
    "\n",
    "print(f'count_0: {count_0}')\n",
    "print(f'count_1: {count_1}')\n",
    "print(f'count_2: {count_2}')\n"
   ]
  },
  {
   "cell_type": "code",
   "execution_count": null,
   "metadata": {},
   "outputs": [],
   "source": []
  }
 ],
 "metadata": {
  "kernelspec": {
   "display_name": "qwan_env",
   "language": "python",
   "name": "python3"
  },
  "language_info": {
   "codemirror_mode": {
    "name": "ipython",
    "version": 3
   },
   "file_extension": ".py",
   "mimetype": "text/x-python",
   "name": "python",
   "nbconvert_exporter": "python",
   "pygments_lexer": "ipython3",
   "version": "3.9.13"
  },
  "orig_nbformat": 4,
  "vscode": {
   "interpreter": {
    "hash": "23af58564012988c5edef472e177fe262c63aa71bce94182d00c377459e1cb7c"
   }
  }
 },
 "nbformat": 4,
 "nbformat_minor": 2
}
