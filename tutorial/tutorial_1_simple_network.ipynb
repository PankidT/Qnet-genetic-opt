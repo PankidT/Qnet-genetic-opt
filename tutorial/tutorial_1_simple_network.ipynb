{
 "cells": [
  {
   "cell_type": "code",
   "execution_count": null,
   "metadata": {},
   "outputs": [],
   "source": []
  }
 ],
 "metadata": {
  "kernelspec": {
   "display_name": "qwanta-env",
   "language": "python",
   "name": "python3"
  },
  "language_info": {
   "name": "python",
   "version": "3.9.5 (default, May 18 2021, 12:31:01) \n[Clang 10.0.0 ]"
  },
  "orig_nbformat": 4,
  "vscode": {
   "interpreter": {
    "hash": "d74e9a1b71fd1f5196fd66d46c959a83cb82248be10f079da928cf433cb1bf72"
   }
  }
 },
 "nbformat": 4,
 "nbformat_minor": 2
}
