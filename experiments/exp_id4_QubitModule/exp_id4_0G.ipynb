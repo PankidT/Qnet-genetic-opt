{
 "cells": [
  {
   "cell_type": "code",
   "execution_count": 1,
   "metadata": {},
   "outputs": [],
   "source": [
    "%reload_ext autoreload\n",
    "%autoreload 2\n",
    "\n",
    "from qwanta.Qubit import ProbablyQuantumCircuit\n",
    "from sympy import simplify, factor\n",
    "\n",
    "from qwanta import Xperiment\n",
    "import numpy as np\n",
    "\n",
    "import pandas as pd\n",
    "import matplotlib.pyplot as plt\n",
    "import seaborn as sns\n",
    "\n",
    "from sympy import symbols"
   ]
  },
  {
   "cell_type": "markdown",
   "metadata": {},
   "source": [
    "### Analytic fidelity for Entanglement swapping\n",
    "\n",
    "First Bell pair before entanglement swapping is,"
   ]
  },
  {
   "cell_type": "code",
   "execution_count": 2,
   "metadata": {},
   "outputs": [
    {
     "name": "stderr",
     "output_type": "stream",
     "text": [
      "Variations: 64it [00:00, 360.51it/s]:00<?, ?it/s]\n",
      "Variations: 64it [00:00, 1336.88it/s]00<00:00,  5.54it/s]\n",
      "Variations: 64it [00:00, 972.31it/s]\n",
      "Stabilizer: 100%|██████████| 3/3 [00:00<00:00,  9.89it/s]\n"
     ]
    },
    {
     "data": {
      "text/latex": [
       "$\\displaystyle 0.0833333333333334 p_{dep}^{2} - 0.5 p_{dep} \\left(1 - p_{dep}\\right) + 0.75 \\left(1 - p_{dep}\\right)^{2} + 0.25$"
      ],
      "text/plain": [
       "0.0833333333333334*p_dep**2 - 0.5*p_dep*(1 - p_dep) + 0.75*(1 - p_dep)**2 + 0.25"
      ]
     },
     "execution_count": 2,
     "metadata": {},
     "output_type": "execute_result"
    }
   ],
   "source": [
    "num_qubits = 2\n",
    "qc = ProbablyQuantumCircuit(num_qubits)\n",
    "\n",
    "for i in range(num_qubits):\n",
    "    qc.dep_error(i)\n",
    "\n",
    "s = qc.DFE(Stabilizers=['XX', 'YY', 'ZZ'], IndexStabilizer=[0, 1], Conditions=None, measure_error_var=0)\n",
    "s"
   ]
  },
  {
   "cell_type": "code",
   "execution_count": 8,
   "metadata": {},
   "outputs": [
    {
     "data": {
      "text/latex": [
       "$\\displaystyle 0.266133333333333$"
      ],
      "text/plain": [
       "0.266133333333333"
      ]
     },
     "execution_count": 8,
     "metadata": {},
     "output_type": "execute_result"
    },
    {
     "data": {
      "image/png": "[encoded data removed]",
      "text/plain": [
       "<Figure size 432x288 with 1 Axes>"
      ]
     },
     "metadata": {
      "needs_background": "light"
     },
     "output_type": "display_data"
    }
   ],
   "source": [
    "# Plot s as a function of the error rate\n",
    "x = np.linspace(0, 1, 100)\n",
    "y = [s.subs('p_dep', i) for i in x]\n",
    "plt.plot(x, y, label='s')\n",
    "plt.plot(x, (1-x)**2 + (x**2)/3, label='s = (1-p_dep)^2 + (p_dep^2)/3')\n",
    "plt.legend()\n"
   ]
  },
  {
   "cell_type": "markdown",
   "metadata": {},
   "source": [
    "## Compare the result with the experimental result\n",
    "\n",
    "From https://www.nature.com/articles/s41534-019-0186-3 we can see that the experimental fidelity is 0.86. Which corresponding to p_dep approxiamtely 0.0736 "
   ]
  },
  {
   "cell_type": "markdown",
   "metadata": {},
   "source": [
    "### Analytic fidelity for 0G"
   ]
  },
  {
   "cell_type": "code",
   "execution_count": 28,
   "metadata": {},
   "outputs": [
    {
     "name": "stderr",
     "output_type": "stream",
     "text": [
      "Variations: 4096it [00:04, 981.34it/s] <?, ?it/s]\n",
      "Variations: 4096it [00:03, 1040.79it/s]<00:08,  4.18s/it]\n",
      "Variations: 4096it [00:04, 971.60it/s]8<00:04,  4.04s/it]\n",
      "Stabilizer: 100%|██████████| 3/3 [00:12<00:00,  4.11s/it]\n"
     ]
    }
   ],
   "source": [
    "num_qubits = 4\n",
    "qc = ProbablyQuantumCircuit(num_qubits)\n",
    "\n",
    "for i in range(num_qubits):\n",
    "    qc.dep_error(i)\n",
    "\n",
    "qc.tqg('cx', 1, 2, var=0)\n",
    "qc.sqg('h', 1, var=0)\n",
    "\n",
    "qc.measure(1, 'Z', var=0)\n",
    "qc.c_if('z',1 , 3, var=0)\n",
    "\n",
    "qc.measure(2, 'Z', var=0)\n",
    "qc.c_if('x', 2, 3, var=0)\n",
    "\n",
    "s = qc.DFE(Stabilizers=['XX', 'YY', 'ZZ'], IndexStabilizer=[0, 3], Conditions=None, measure_error_var=0)"
   ]
  },
  {
   "cell_type": "code",
   "execution_count": 29,
   "metadata": {},
   "outputs": [
    {
     "data": {
      "text/latex": [
       "$\\displaystyle 0.0092592592592593 p_{dep}^{4} - 0.11111111111111 p_{dep}^{3} \\cdot \\left(1 - p_{dep}\\right) + 0.499999999999998 p_{dep}^{2} \\left(1 - p_{dep}\\right)^{2} - 1.0 p_{dep} \\left(1 - p_{dep}\\right)^{3} + 0.75 \\left(1 - p_{dep}\\right)^{4} + 0.25$"
      ],
      "text/plain": [
       "0.0092592592592593*p_dep**4 - 0.11111111111111*p_dep**3*(1 - p_dep) + 0.499999999999998*p_dep**2*(1 - p_dep)**2 - 1.0*p_dep*(1 - p_dep)**3 + 0.75*(1 - p_dep)**4 + 0.25"
      ]
     },
     "execution_count": 29,
     "metadata": {},
     "output_type": "execute_result"
    }
   ],
   "source": [
    "def analytic_fidelity(x):\n",
    "    return s.subs('p_dep', x)\n",
    "s"
   ]
  },
  {
   "cell_type": "code",
   "execution_count": 30,
   "metadata": {},
   "outputs": [
    {
     "data": {
      "text/latex": [
       "$\\displaystyle 2.37037037037037 p_{dep}^{4} - 7.11111111111111 p_{dep}^{3} + 8.0 p_{dep}^{2} - 4.0 p_{dep} + 1.0$"
      ],
      "text/plain": [
       "2.37037037037037*p_dep**4 - 7.11111111111111*p_dep**3 + 8.0*p_dep**2 - 4.0*p_dep + 1.0"
      ]
     },
     "execution_count": 30,
     "metadata": {},
     "output_type": "execute_result"
    }
   ],
   "source": [
    "simplify(s)"
   ]
  },
  {
   "cell_type": "code",
   "execution_count": 34,
   "metadata": {},
   "outputs": [],
   "source": [
    "def simulate_model(parameter):\n",
    "    message_log = 'exp_id4_0G_Testing'\n",
    "    distance = 100\n",
    "\n",
    "    index = parameter['index']\n",
    "    loss = parameter['loss rate'] # dB/km\n",
    "    depo_prob = parameter['depolarizing rate']\n",
    "    gate_error = parameter['gate error rate']\n",
    "    measurement_error = parameter['measurement error']\n",
    "    memory_time = parameter['memory error']\n",
    "    repeat_th = parameter['trajectory']\n",
    "\n",
    "    num_hops = parameter['number of hops']\n",
    "    num_nodes = num_hops + 1\n",
    "\n",
    "    node_info = {f'Node {i}': {'coordinate': (int(dis), 0, 0)} for i, dis in enumerate(np.linspace(0, distance, num_nodes))}\n",
    "    edge_info = {\n",
    "        (f'Node {i}', f'Node {i+1}'): {\n",
    "        'connection-type': 'Space',\n",
    "        'depolarlizing error': [1 - depo_prob, depo_prob/3, depo_prob/3, depo_prob/3],\n",
    "        'loss': loss,\n",
    "        'light speed': 300000,\n",
    "        'Pulse rate': 0.00001,\n",
    "        f'Node {i}':{\n",
    "            'gate error': gate_error,\n",
    "            'measurement error': measurement_error,\n",
    "            'memory function': memory_time\n",
    "        },\n",
    "        f'Node {i+1}':{\n",
    "            'gate error': gate_error,\n",
    "            'measurement error': measurement_error,\n",
    "            'memory function': memory_time\n",
    "        },\n",
    "        }\n",
    "    for i in range(num_hops)}\n",
    "\n",
    "    exps = Xperiment(\n",
    "        timelines_path = f'exper_id6_selectedStats_{num_hops}hops.xlsx',\n",
    "        nodes_info_exp = node_info,\n",
    "        edges_info_exp = edge_info,\n",
    "        gate_error = gate_error,\n",
    "        measurement_error = measurement_error,\n",
    "        memory_time = memory_time,\n",
    "        experiment = f'{message_log}_p{index}_r{repeat_th}',\n",
    "        strategies_list=['0G']\n",
    "    )\n",
    "\n",
    "    result = exps.execute(save_result=True)\n",
    "    return result"
   ]
  },
  {
   "cell_type": "code",
   "execution_count": 35,
   "metadata": {},
   "outputs": [],
   "source": [
    "parameters = []\n",
    "\n",
    "p_dep_range = np.linspace(0, 1, 11)\n",
    "for trajectory in range(10):\n",
    "    for index, p_dep in enumerate(p_dep_range):\n",
    "        parameters.append({\n",
    "            'index': index,\n",
    "            'loss rate': 0, \n",
    "            'depolarizing rate': p_dep, \n",
    "            'gate error rate': 0, \n",
    "            'memory error': np.Infinity,\n",
    "            'measurement error': 0,\n",
    "            'number of hops': 2,\n",
    "            'trajectory': trajectory\n",
    "        })"
   ]
  },
  {
   "cell_type": "code",
   "execution_count": 36,
   "metadata": {},
   "outputs": [],
   "source": [
    "fidelities_0G = []\n",
    "\n",
    "for parameter in parameters:\n",
    "    result = simulate_model(parameter)\n",
    "    fidelity = result['0G']['fidelity']\n",
    "    fidelities_0G.append({\n",
    "        'depolarizing rate': parameter['depolarizing rate'],\n",
    "        'fidelity': fidelity,\n",
    "        'trajectory': parameter['trajectory']\n",
    "    })"
   ]
  },
  {
   "cell_type": "code",
   "execution_count": 39,
   "metadata": {},
   "outputs": [
    {
     "data": {
      "text/html": [
       "<div>\n",
       "<style scoped>\n",
       "    .dataframe tbody tr th:only-of-type {\n",
       "        vertical-align: middle;\n",
       "    }\n",
       "\n",
       "    .dataframe tbody tr th {\n",
       "        vertical-align: top;\n",
       "    }\n",
       "\n",
       "    .dataframe thead th {\n",
       "        text-align: right;\n",
       "    }\n",
       "</style>\n",
       "<table border=\"1\" class=\"dataframe\">\n",
       "  <thead>\n",
       "    <tr style=\"text-align: right;\">\n",
       "      <th></th>\n",
       "      <th>depolarizing rate</th>\n",
       "      <th>fidelity</th>\n",
       "      <th>trajectory</th>\n",
       "      <th>result</th>\n",
       "    </tr>\n",
       "  </thead>\n",
       "  <tbody>\n",
       "    <tr>\n",
       "      <th>0</th>\n",
       "      <td>0.0</td>\n",
       "      <td>1.000000</td>\n",
       "      <td>0</td>\n",
       "      <td>Analytic</td>\n",
       "    </tr>\n",
       "    <tr>\n",
       "      <th>1</th>\n",
       "      <td>0.1</td>\n",
       "      <td>0.673126</td>\n",
       "      <td>0</td>\n",
       "      <td>Analytic</td>\n",
       "    </tr>\n",
       "    <tr>\n",
       "      <th>2</th>\n",
       "      <td>0.2</td>\n",
       "      <td>0.466904</td>\n",
       "      <td>0</td>\n",
       "      <td>Analytic</td>\n",
       "    </tr>\n",
       "    <tr>\n",
       "      <th>3</th>\n",
       "      <td>0.3</td>\n",
       "      <td>0.347200</td>\n",
       "      <td>0</td>\n",
       "      <td>Analytic</td>\n",
       "    </tr>\n",
       "    <tr>\n",
       "      <th>4</th>\n",
       "      <td>0.4</td>\n",
       "      <td>0.285570</td>\n",
       "      <td>0</td>\n",
       "      <td>Analytic</td>\n",
       "    </tr>\n",
       "    <tr>\n",
       "      <th>...</th>\n",
       "      <td>...</td>\n",
       "      <td>...</td>\n",
       "      <td>...</td>\n",
       "      <td>...</td>\n",
       "    </tr>\n",
       "    <tr>\n",
       "      <th>215</th>\n",
       "      <td>0.6</td>\n",
       "      <td>0.250667</td>\n",
       "      <td>9</td>\n",
       "      <td>Simulated</td>\n",
       "    </tr>\n",
       "    <tr>\n",
       "      <th>216</th>\n",
       "      <td>0.7</td>\n",
       "      <td>0.240500</td>\n",
       "      <td>9</td>\n",
       "      <td>Simulated</td>\n",
       "    </tr>\n",
       "    <tr>\n",
       "      <th>217</th>\n",
       "      <td>0.8</td>\n",
       "      <td>0.236000</td>\n",
       "      <td>9</td>\n",
       "      <td>Simulated</td>\n",
       "    </tr>\n",
       "    <tr>\n",
       "      <th>218</th>\n",
       "      <td>0.9</td>\n",
       "      <td>0.242667</td>\n",
       "      <td>9</td>\n",
       "      <td>Simulated</td>\n",
       "    </tr>\n",
       "    <tr>\n",
       "      <th>219</th>\n",
       "      <td>1.0</td>\n",
       "      <td>0.267000</td>\n",
       "      <td>9</td>\n",
       "      <td>Simulated</td>\n",
       "    </tr>\n",
       "  </tbody>\n",
       "</table>\n",
       "<p>220 rows × 4 columns</p>\n",
       "</div>"
      ],
      "text/plain": [
       "     depolarizing rate  fidelity  trajectory     result\n",
       "0                  0.0  1.000000           0   Analytic\n",
       "1                  0.1  0.673126           0   Analytic\n",
       "2                  0.2  0.466904           0   Analytic\n",
       "3                  0.3  0.347200           0   Analytic\n",
       "4                  0.4  0.285570           0   Analytic\n",
       "..                 ...       ...         ...        ...\n",
       "215                0.6  0.250667           9  Simulated\n",
       "216                0.7  0.240500           9  Simulated\n",
       "217                0.8  0.236000           9  Simulated\n",
       "218                0.9  0.242667           9  Simulated\n",
       "219                1.0  0.267000           9  Simulated\n",
       "\n",
       "[220 rows x 4 columns]"
      ]
     },
     "execution_count": 39,
     "metadata": {},
     "output_type": "execute_result"
    }
   ],
   "source": [
    "data_simulated = pd.DataFrame(fidelities_0G)\n",
    "#data['analytic fidelity'] = data.apply(lambda row: float(analytic_fidelity(row['depolarizing rate'])), axis=1)\n",
    "data_simulated['result'] = data_simulated.apply(lambda row: 'Simulated', axis=1)\n",
    "data_analytic = data_simulated.copy(deep=True)\n",
    "data_analytic['fidelity'] = data_analytic.apply(lambda row: float(analytic_fidelity(row['depolarizing rate'])), axis=1)\n",
    "data_analytic['result'] = data_analytic.apply(lambda row: 'Analytic', axis=1)\n",
    "data = pd.concat([data_analytic, data_simulated], ignore_index=True)\n",
    "data.to_csv('Fidelity_0G_model.csv')\n",
    "data"
   ]
  },
  {
   "cell_type": "code",
   "execution_count": 40,
   "metadata": {},
   "outputs": [],
   "source": [
    "data = pd.read_csv('Fidelity_0G_model.csv')"
   ]
  },
  {
   "cell_type": "code",
   "execution_count": 41,
   "metadata": {},
   "outputs": [
    {
     "data": {
      "text/plain": [
       "<AxesSubplot:xlabel='depolarizing rate', ylabel='fidelity'>"
      ]
     },
     "execution_count": 41,
     "metadata": {},
     "output_type": "execute_result"
    },
    {
     "data": {
      "image/png": "[encoded data removed]",
      "text/plain": [
       "<Figure size 720x360 with 1 Axes>"
      ]
     },
     "metadata": {},
     "output_type": "display_data"
    }
   ],
   "source": [
    "sns.set_context(\"paper\", font_scale=2)\n",
    "\n",
    "fig, axes = plt.subplots(1, 1, figsize=(10, 5))\n",
    "sns.lineplot(data=data, x='depolarizing rate', y='fidelity', ci='sd',\n",
    "             style='result', hue='result', ax=axes, markers=True, markersize=10)"
   ]
  },
  {
   "cell_type": "markdown",
   "metadata": {},
   "source": [
    "### Simulate 1G"
   ]
  },
  {
   "cell_type": "code",
   "execution_count": 42,
   "metadata": {},
   "outputs": [],
   "source": [
    "def simulate_1G_model(parameter):\n",
    "    message_log = 'exp_id4_1G_Testing_extended'\n",
    "    distance = 100\n",
    "\n",
    "    index = parameter['index']\n",
    "    loss = parameter['loss rate'] # dB/km\n",
    "    depo_prob = parameter['depolarizing rate']\n",
    "    gate_error = parameter['gate error rate']\n",
    "    measurement_error = parameter['measurement error']\n",
    "    memory_time = parameter['memory error']\n",
    "    repeat_th = parameter['trajectory']\n",
    "\n",
    "    num_hops = parameter['number of hops']\n",
    "    num_nodes = num_hops + 1\n",
    "\n",
    "    node_info = {f'Node {i}': {'coordinate': (int(dis), 0, 0)} for i, dis in enumerate(np.linspace(0, distance, num_nodes))}\n",
    "    edge_info = {\n",
    "        (f'Node {i}', f'Node {i+1}'): {\n",
    "        'connection-type': 'Space',\n",
    "        'depolarlizing error': [1 - depo_prob, depo_prob/3, depo_prob/3, depo_prob/3],\n",
    "        'loss': loss,\n",
    "        'light speed': 300000,\n",
    "        'Pulse rate': 0.00001,\n",
    "        f'Node {i}':{\n",
    "            'gate error': gate_error,\n",
    "            'measurement error': measurement_error,\n",
    "            'memory function': memory_time\n",
    "        },\n",
    "        f'Node {i+1}':{\n",
    "            'gate error': gate_error,\n",
    "            'measurement error': measurement_error,\n",
    "            'memory function': memory_time\n",
    "        },\n",
    "        }\n",
    "    for i in range(num_hops)}\n",
    "\n",
    "    exps = Xperiment(\n",
    "        timelines_path = f'exper_id6_selectedStats_{num_hops}hops.xlsx',\n",
    "        nodes_info_exp = node_info,\n",
    "        edges_info_exp = edge_info,\n",
    "        gate_error = gate_error,\n",
    "        measurement_error = measurement_error,\n",
    "        memory_time = memory_time,\n",
    "        experiment = f'{message_log}_p{index}_r{repeat_th}',\n",
    "        strategies_list=['1G-Ss-Dp']\n",
    "    )\n",
    "\n",
    "    result = exps.execute(save_result=True)\n",
    "    return result"
   ]
  },
  {
   "cell_type": "code",
   "execution_count": 43,
   "metadata": {},
   "outputs": [],
   "source": [
    "parameters = []\n",
    "\n",
    "p_dep_range = np.linspace(0, 1, 21)\n",
    "for trajectory in range(10):\n",
    "    for index, p_dep in enumerate(p_dep_range):\n",
    "        parameters.append({\n",
    "            'index': index,\n",
    "            'loss rate': 0, \n",
    "            'depolarizing rate': p_dep, \n",
    "            'gate error rate': 0, \n",
    "            'memory error': np.Infinity,\n",
    "            'measurement error': 0,\n",
    "            'number of hops': 2,\n",
    "            'trajectory': trajectory\n",
    "        })"
   ]
  },
  {
   "cell_type": "code",
   "execution_count": 44,
   "metadata": {},
   "outputs": [],
   "source": [
    "fidelities_1G = []\n",
    "\n",
    "for parameter in parameters:\n",
    "    result = simulate_1G_model(parameter)\n",
    "    fidelity = result['1G-Ss-Dp']['fidelity']\n",
    "    fidelities_1G.append({\n",
    "        'depolarizing rate': parameter['depolarizing rate'],\n",
    "        'fidelity': fidelity,\n",
    "        'trajectory': parameter['trajectory']\n",
    "    })"
   ]
  },
  {
   "cell_type": "code",
   "execution_count": 2,
   "metadata": {},
   "outputs": [],
   "source": [
    "def analytic_fidelity_1G(x):\n",
    "\n",
    "    p, F = symbols('p F')\n",
    "    Ss_Dp_F = (224*p**4 - 672*p**3 + 756*p**2 - 378*p + 81)/(256*p**4 - 768*p**3 + 792*p**2 - 324*p + 81)\n",
    "    F_swapped = F**2 + (1 - F)*(1 - F)/3\n",
    "    Fidelity_1G = F_swapped.subs(F, Ss_Dp_F)\n",
    "\n",
    "    return Fidelity_1G.subs(p, x)"
   ]
  },
  {
   "cell_type": "code",
   "execution_count": 46,
   "metadata": {},
   "outputs": [
    {
     "data": {
      "text/html": [
       "<div>\n",
       "<style scoped>\n",
       "    .dataframe tbody tr th:only-of-type {\n",
       "        vertical-align: middle;\n",
       "    }\n",
       "\n",
       "    .dataframe tbody tr th {\n",
       "        vertical-align: top;\n",
       "    }\n",
       "\n",
       "    .dataframe thead th {\n",
       "        text-align: right;\n",
       "    }\n",
       "</style>\n",
       "<table border=\"1\" class=\"dataframe\">\n",
       "  <thead>\n",
       "    <tr style=\"text-align: right;\">\n",
       "      <th></th>\n",
       "      <th>depolarizing rate</th>\n",
       "      <th>fidelity</th>\n",
       "      <th>trajectory</th>\n",
       "      <th>result</th>\n",
       "    </tr>\n",
       "  </thead>\n",
       "  <tbody>\n",
       "    <tr>\n",
       "      <th>0</th>\n",
       "      <td>0.00</td>\n",
       "      <td>1.000000</td>\n",
       "      <td>0</td>\n",
       "      <td>Analytic</td>\n",
       "    </tr>\n",
       "    <tr>\n",
       "      <th>1</th>\n",
       "      <td>0.05</td>\n",
       "      <td>0.918992</td>\n",
       "      <td>0</td>\n",
       "      <td>Analytic</td>\n",
       "    </tr>\n",
       "    <tr>\n",
       "      <th>2</th>\n",
       "      <td>0.10</td>\n",
       "      <td>0.810557</td>\n",
       "      <td>0</td>\n",
       "      <td>Analytic</td>\n",
       "    </tr>\n",
       "    <tr>\n",
       "      <th>3</th>\n",
       "      <td>0.15</td>\n",
       "      <td>0.683014</td>\n",
       "      <td>0</td>\n",
       "      <td>Analytic</td>\n",
       "    </tr>\n",
       "    <tr>\n",
       "      <th>4</th>\n",
       "      <td>0.20</td>\n",
       "      <td>0.552846</td>\n",
       "      <td>0</td>\n",
       "      <td>Analytic</td>\n",
       "    </tr>\n",
       "    <tr>\n",
       "      <th>...</th>\n",
       "      <td>...</td>\n",
       "      <td>...</td>\n",
       "      <td>...</td>\n",
       "      <td>...</td>\n",
       "    </tr>\n",
       "    <tr>\n",
       "      <th>415</th>\n",
       "      <td>0.80</td>\n",
       "      <td>0.249667</td>\n",
       "      <td>9</td>\n",
       "      <td>Simulated</td>\n",
       "    </tr>\n",
       "    <tr>\n",
       "      <th>416</th>\n",
       "      <td>0.85</td>\n",
       "      <td>0.250167</td>\n",
       "      <td>9</td>\n",
       "      <td>Simulated</td>\n",
       "    </tr>\n",
       "    <tr>\n",
       "      <th>417</th>\n",
       "      <td>0.90</td>\n",
       "      <td>0.243167</td>\n",
       "      <td>9</td>\n",
       "      <td>Simulated</td>\n",
       "    </tr>\n",
       "    <tr>\n",
       "      <th>418</th>\n",
       "      <td>0.95</td>\n",
       "      <td>0.245833</td>\n",
       "      <td>9</td>\n",
       "      <td>Simulated</td>\n",
       "    </tr>\n",
       "    <tr>\n",
       "      <th>419</th>\n",
       "      <td>1.00</td>\n",
       "      <td>0.245333</td>\n",
       "      <td>9</td>\n",
       "      <td>Simulated</td>\n",
       "    </tr>\n",
       "  </tbody>\n",
       "</table>\n",
       "<p>420 rows × 4 columns</p>\n",
       "</div>"
      ],
      "text/plain": [
       "     depolarizing rate  fidelity  trajectory     result\n",
       "0                 0.00  1.000000           0   Analytic\n",
       "1                 0.05  0.918992           0   Analytic\n",
       "2                 0.10  0.810557           0   Analytic\n",
       "3                 0.15  0.683014           0   Analytic\n",
       "4                 0.20  0.552846           0   Analytic\n",
       "..                 ...       ...         ...        ...\n",
       "415               0.80  0.249667           9  Simulated\n",
       "416               0.85  0.250167           9  Simulated\n",
       "417               0.90  0.243167           9  Simulated\n",
       "418               0.95  0.245833           9  Simulated\n",
       "419               1.00  0.245333           9  Simulated\n",
       "\n",
       "[420 rows x 4 columns]"
      ]
     },
     "execution_count": 46,
     "metadata": {},
     "output_type": "execute_result"
    }
   ],
   "source": [
    "data_simulated_1G = pd.DataFrame(fidelities_1G)\n",
    "\n",
    "data_simulated_1G['result'] = data_simulated_1G.apply(lambda row: 'Simulated', axis=1)\n",
    "data_analytic_1G = data_simulated_1G.copy(deep=True)\n",
    "data_analytic_1G['fidelity'] = data_analytic_1G.apply(lambda row: float(analytic_fidelity_1G(row['depolarizing rate'])), axis=1)\n",
    "data_analytic_1G['result'] = data_analytic_1G.apply(lambda row: 'Analytic', axis=1)\n",
    "data = pd.concat([data_analytic_1G, data_simulated_1G], ignore_index=True)\n",
    "data.to_csv('Fidelity_1G_model_extended.csv')\n",
    "data"
   ]
  },
  {
   "cell_type": "code",
   "execution_count": 47,
   "metadata": {},
   "outputs": [
    {
     "data": {
      "text/plain": [
       "<AxesSubplot:xlabel='depolarizing rate', ylabel='fidelity'>"
      ]
     },
     "execution_count": 47,
     "metadata": {},
     "output_type": "execute_result"
    },
    {
     "data": {
      "image/png": "[encoded data removed]",
      "text/plain": [
       "<Figure size 720x360 with 1 Axes>"
      ]
     },
     "metadata": {},
     "output_type": "display_data"
    }
   ],
   "source": [
    "data = pd.read_csv('Fidelity_1G_model_extended.csv')\n",
    "sns.set_context(\"paper\", font_scale=2)\n",
    "\n",
    "fig, axes = plt.subplots(1, 1, figsize=(10, 5))\n",
    "sns.lineplot(data=data, x='depolarizing rate', y='fidelity', ci='sd',\n",
    "             style='result', hue='result', ax=axes, markers=True, markersize=10)"
   ]
  },
  {
   "cell_type": "code",
   "execution_count": 3,
   "metadata": {},
   "outputs": [],
   "source": [
    "p, F = symbols('p F')\n",
    "Ss_Dp_F = (224*p**4 - 672*p**3 + 756*p**2 - 378*p + 81)/(256*p**4 - 768*p**3 + 792*p**2 - 324*p + 81)\n",
    "F_swapped = F**2 + (1 - F)*(1 - F)/3\n",
    "Fidelity_1G = F_swapped.subs(F, Ss_Dp_F)"
   ]
  },
  {
   "cell_type": "code",
   "execution_count": 6,
   "metadata": {},
   "outputs": [
    {
     "data": {
      "text/latex": [
       "$\\displaystyle \\frac{224 p^{4} - 672 p^{3} + 756 p^{2} - 378 p + 81}{256 p^{4} - 768 p^{3} + 792 p^{2} - 324 p + 81}$"
      ],
      "text/plain": [
       "(224*p**4 - 672*p**3 + 756*p**2 - 378*p + 81)/(256*p**4 - 768*p**3 + 792*p**2 - 324*p + 81)"
      ]
     },
     "execution_count": 6,
     "metadata": {},
     "output_type": "execute_result"
    }
   ],
   "source": [
    "simplify(Ss_Dp_F)"
   ]
  },
  {
   "cell_type": "code",
   "execution_count": 7,
   "metadata": {},
   "outputs": [
    {
     "data": {
      "text/latex": [
       "$\\displaystyle F^{2} + \\frac{\\left(1 - F\\right)^{2}}{3}$"
      ],
      "text/plain": [
       "F**2 + (1 - F)**2/3"
      ]
     },
     "execution_count": 7,
     "metadata": {},
     "output_type": "execute_result"
    }
   ],
   "source": [
    "F_swapped"
   ]
  }
 ],
 "metadata": {
  "interpreter": {
   "hash": "b40605a589045a6cb328da6a198dbb50f4704dae5bcc57d5726c1b78c7ff0d87"
  },
  "kernelspec": {
   "display_name": "Python 3.9.7 ('qwanta-env')",
   "language": "python",
   "name": "python3"
  },
  "language_info": {
   "codemirror_mode": {
    "name": "ipython",
    "version": 3
   },
   "file_extension": ".py",
   "mimetype": "text/x-python",
   "name": "python",
   "nbconvert_exporter": "python",
   "pygments_lexer": "ipython3",
   "version": "3.9.7"
  },
  "orig_nbformat": 4
 },
 "nbformat": 4,
 "nbformat_minor": 2
}
